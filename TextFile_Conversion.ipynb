{
  "nbformat": 4,
  "nbformat_minor": 0,
  "metadata": {
    "colab": {
      "provenance": [],
      "authorship_tag": "ABX9TyPq3WafQlVbLKYmTCs3BjT0",
      "include_colab_link": true
    },
    "kernelspec": {
      "name": "python3",
      "display_name": "Python 3"
    },
    "language_info": {
      "name": "python"
    }
  },
  "cells": [
    {
      "cell_type": "markdown",
      "metadata": {
        "id": "view-in-github",
        "colab_type": "text"
      },
      "source": [
        "<a href=\"https://colab.research.google.com/github/rmnk1908/text_file_conversion/blob/main/TextFile_Conversion.ipynb\" target=\"_parent\"><img src=\"https://colab.research.google.com/assets/colab-badge.svg\" alt=\"Open In Colab\"/></a>"
      ]
    },
    {
      "cell_type": "code",
      "execution_count": 2,
      "metadata": {
        "colab": {
          "base_uri": "https://localhost:8080/"
        },
        "collapsed": true,
        "id": "NYM2MLum5swy",
        "outputId": "e96756c6-31db-42c9-eb98-f497ab4f9dcf"
      },
      "outputs": [
        {
          "output_type": "stream",
          "name": "stdout",
          "text": [
            "File not found: file1.txt\n",
            "File not found: file2.txt\n",
            "File not found: file3.txt\n"
          ]
        }
      ],
      "source": [
        "import os\n",
        "\n",
        "input_files = [\"file1.txt\", \"file2.txt\", \"file3.txt\"]\n",
        "\n",
        "for filename in input_files:\n",
        "    if os.path.exists(filename):\n",
        "        with open(filename, \"r\") as infile:\n",
        "            content = infile.read().upper()\n",
        "        new_name = filename.replace(\".txt\", \"_UPPER.txt\")\n",
        "        with open(new_name, \"w\") as outfile:\n",
        "            outfile.write(content)\n",
        "        print(f\"Converted: {filename} ➜ {new_name}\")\n",
        "    else:\n",
        "        print(f\"File not found: {filename}\")"
      ]
    },
    {
      "cell_type": "code",
      "source": [],
      "metadata": {
        "id": "PQPjLyG85yZe"
      },
      "execution_count": null,
      "outputs": []
    }
  ]
}